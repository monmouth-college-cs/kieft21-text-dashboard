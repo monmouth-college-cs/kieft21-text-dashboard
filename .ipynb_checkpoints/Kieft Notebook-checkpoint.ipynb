{
 "cells": [
  {
   "cell_type": "markdown",
   "id": "6c2416d6",
   "metadata": {},
   "source": [
    "# Kieft Jupyter Notebook:"
   ]
  },
  {
   "cell_type": "markdown",
   "id": "f9896a29",
   "metadata": {},
   "source": [
    "# About: \n",
    "We created this notebook to prototype and document our research over the Fall 2021 Semester at Monmouth College.\n",
    "We are currently working to implement Spacy pipelines and custom pipes within this pipeline to improve our web-based text analysis, and this notebook will document that process. The Spacy pipelines will completely replace the analysis process within the dashboard/code. This allows the user to create more customization, with little change to the code base. Also, we will begin to allow Spacy's advanced searching features. Students working on this dashboard are currently: Cal Bigham, Class of 2023 and Shay Hafner, Class of 2023."
   ]
  },
  {
   "cell_type": "markdown",
   "id": "459e1f0c",
   "metadata": {},
   "source": [
    "# Adding/Deleting Pipes from the Pipeline\n",
    "Before we get into the details of each pipe or node of the Spacy pipeline that we create, lets consider the spacy methods for adding and deleting pipes from a pipeline. Spacy has a few of these functions to allow this functionality:\n",
    "\n",
    "remove_pipe: Allows the developer to remove an entire pipe from the pipeline (the pipe will not be loaded)\n",
    "disable_pipe: Allows the developer to disable a pipe from the pipeline (the pipe will be loaded, but not run)\n",
    "add_pipe: Can add a pipe to the pipeline, on top of the defaults.\n",
    "It must be mentioned that using before, after, first, and last keywords, you can customize the pipeline with ease.\n",
    "\n",
    "For our purposes, we will allow the user to define what they want removed from the pipeline. If the user does not want to get polarity, we would activate the below code block:\n"
   ]
  },
  {
   "cell_type": "code",
   "execution_count": null,
   "id": "29ad61b9",
   "metadata": {},
   "outputs": [],
   "source": [
    "user_remove_options = \"polarity\"\n",
    "nlp.disable_pipe(user_remove_options)"
   ]
  },
  {
   "cell_type": "markdown",
   "id": "87caee7b",
   "metadata": {},
   "source": [
    "This code takes a string or list of strings from a form on the dashboard. Then, we could use that string to remove those pipes from the default pipeline. Notice that we are only using disable here, as it is all we need in every scenerio. Adding a pipe and completely removing it would get messy (due to the importance of order), so we will only use disable."
   ]
  },
  {
   "cell_type": "markdown",
   "id": "e76441a6",
   "metadata": {},
   "source": [
    "# Adding NLTK Vader Functionality to Spacy\n",
    "In order to allow for maximum user customizability, as well as the best experience (in our eyes), we wanted to create a custom spacy \"pipe\" that gave NLTK Vader Functionality. This allows the user to get polarity of the text.\n",
    "\n",
    "You will see a @Language.factory decoration tag above our code. This tells spacy the name of the custom pipe (eg. spacyVader). This allow for the typical spacy functionality of remove_pipe and add_pipe. This limits the amount of code required to add and remove processes from the default pipeline."
   ]
  },
  {
   "cell_type": "code",
   "execution_count": 8,
   "id": "992000a9",
   "metadata": {},
   "outputs": [
    {
     "ename": "TypeError",
     "evalue": "<class '__main__.SpacyVader'> is a built-in class",
     "output_type": "error",
     "traceback": [
      "\u001b[0;31m---------------------------------------------------------------------------\u001b[0m",
      "\u001b[0;31mTypeError\u001b[0m                                 Traceback (most recent call last)",
      "\u001b[0;32m/tmp/ipykernel_6269/650628231.py\u001b[0m in \u001b[0;36m<module>\u001b[0;34m\u001b[0m\n\u001b[1;32m      5\u001b[0m \u001b[0;34m\u001b[0m\u001b[0m\n\u001b[1;32m      6\u001b[0m \u001b[0;34m@\u001b[0m\u001b[0mLanguage\u001b[0m\u001b[0;34m.\u001b[0m\u001b[0mfactory\u001b[0m\u001b[0;34m(\u001b[0m\u001b[0;34m\"spacyVader\"\u001b[0m\u001b[0;34m)\u001b[0m\u001b[0;34m\u001b[0m\u001b[0;34m\u001b[0m\u001b[0m\n\u001b[0;32m----> 7\u001b[0;31m \u001b[0;32mclass\u001b[0m \u001b[0mSpacyVader\u001b[0m\u001b[0;34m(\u001b[0m\u001b[0mobject\u001b[0m\u001b[0;34m)\u001b[0m\u001b[0;34m:\u001b[0m\u001b[0;34m\u001b[0m\u001b[0;34m\u001b[0m\u001b[0m\n\u001b[0m\u001b[1;32m      8\u001b[0m     \u001b[0;34m\"\"\"A spacy pipline for NLTK Vader Sentiment Analysis\"\"\"\u001b[0m\u001b[0;34m\u001b[0m\u001b[0;34m\u001b[0m\u001b[0m\n\u001b[1;32m      9\u001b[0m \u001b[0;34m\u001b[0m\u001b[0m\n",
      "\u001b[0;32m~/.local/lib/python3.9/site-packages/spacy/language.py\u001b[0m in \u001b[0;36madd_factory\u001b[0;34m(factory_func)\u001b[0m\n\u001b[1;32m    476\u001b[0m                 \u001b[0;31m# if module is reloaded.\u001b[0m\u001b[0;34m\u001b[0m\u001b[0;34m\u001b[0m\u001b[0;34m\u001b[0m\u001b[0m\n\u001b[1;32m    477\u001b[0m                 \u001b[0mexisting_func\u001b[0m \u001b[0;34m=\u001b[0m \u001b[0mregistry\u001b[0m\u001b[0;34m.\u001b[0m\u001b[0mfactories\u001b[0m\u001b[0;34m.\u001b[0m\u001b[0mget\u001b[0m\u001b[0;34m(\u001b[0m\u001b[0minternal_name\u001b[0m\u001b[0;34m)\u001b[0m\u001b[0;34m\u001b[0m\u001b[0;34m\u001b[0m\u001b[0m\n\u001b[0;32m--> 478\u001b[0;31m                 \u001b[0;32mif\u001b[0m \u001b[0;32mnot\u001b[0m \u001b[0mutil\u001b[0m\u001b[0;34m.\u001b[0m\u001b[0mis_same_func\u001b[0m\u001b[0;34m(\u001b[0m\u001b[0mfactory_func\u001b[0m\u001b[0;34m,\u001b[0m \u001b[0mexisting_func\u001b[0m\u001b[0;34m)\u001b[0m\u001b[0;34m:\u001b[0m\u001b[0;34m\u001b[0m\u001b[0;34m\u001b[0m\u001b[0m\n\u001b[0m\u001b[1;32m    479\u001b[0m                     err = Errors.E004.format(\n\u001b[1;32m    480\u001b[0m                         \u001b[0mname\u001b[0m\u001b[0;34m=\u001b[0m\u001b[0mname\u001b[0m\u001b[0;34m,\u001b[0m \u001b[0mfunc\u001b[0m\u001b[0;34m=\u001b[0m\u001b[0mexisting_func\u001b[0m\u001b[0;34m,\u001b[0m \u001b[0mnew_func\u001b[0m\u001b[0;34m=\u001b[0m\u001b[0mfactory_func\u001b[0m\u001b[0;34m\u001b[0m\u001b[0;34m\u001b[0m\u001b[0m\n",
      "\u001b[0;32m~/.local/lib/python3.9/site-packages/spacy/util.py\u001b[0m in \u001b[0;36mis_same_func\u001b[0;34m(func1, func2)\u001b[0m\n\u001b[1;32m    989\u001b[0m         \u001b[0;32mreturn\u001b[0m \u001b[0;32mFalse\u001b[0m\u001b[0;34m\u001b[0m\u001b[0;34m\u001b[0m\u001b[0m\n\u001b[1;32m    990\u001b[0m     \u001b[0msame_name\u001b[0m \u001b[0;34m=\u001b[0m \u001b[0mfunc1\u001b[0m\u001b[0;34m.\u001b[0m\u001b[0m__qualname__\u001b[0m \u001b[0;34m==\u001b[0m \u001b[0mfunc2\u001b[0m\u001b[0;34m.\u001b[0m\u001b[0m__qualname__\u001b[0m\u001b[0;34m\u001b[0m\u001b[0;34m\u001b[0m\u001b[0m\n\u001b[0;32m--> 991\u001b[0;31m     \u001b[0msame_file\u001b[0m \u001b[0;34m=\u001b[0m \u001b[0minspect\u001b[0m\u001b[0;34m.\u001b[0m\u001b[0mgetfile\u001b[0m\u001b[0;34m(\u001b[0m\u001b[0mfunc1\u001b[0m\u001b[0;34m)\u001b[0m \u001b[0;34m==\u001b[0m \u001b[0minspect\u001b[0m\u001b[0;34m.\u001b[0m\u001b[0mgetfile\u001b[0m\u001b[0;34m(\u001b[0m\u001b[0mfunc2\u001b[0m\u001b[0;34m)\u001b[0m\u001b[0;34m\u001b[0m\u001b[0;34m\u001b[0m\u001b[0m\n\u001b[0m\u001b[1;32m    992\u001b[0m     \u001b[0msame_code\u001b[0m \u001b[0;34m=\u001b[0m \u001b[0minspect\u001b[0m\u001b[0;34m.\u001b[0m\u001b[0mgetsourcelines\u001b[0m\u001b[0;34m(\u001b[0m\u001b[0mfunc1\u001b[0m\u001b[0;34m)\u001b[0m \u001b[0;34m==\u001b[0m \u001b[0minspect\u001b[0m\u001b[0;34m.\u001b[0m\u001b[0mgetsourcelines\u001b[0m\u001b[0;34m(\u001b[0m\u001b[0mfunc2\u001b[0m\u001b[0;34m)\u001b[0m\u001b[0;34m\u001b[0m\u001b[0;34m\u001b[0m\u001b[0m\n\u001b[1;32m    993\u001b[0m     \u001b[0;32mreturn\u001b[0m \u001b[0msame_name\u001b[0m \u001b[0;32mand\u001b[0m \u001b[0msame_file\u001b[0m \u001b[0;32mand\u001b[0m \u001b[0msame_code\u001b[0m\u001b[0;34m\u001b[0m\u001b[0;34m\u001b[0m\u001b[0m\n",
      "\u001b[0;32m/usr/lib/python3.9/inspect.py\u001b[0m in \u001b[0;36mgetfile\u001b[0;34m(object)\u001b[0m\n\u001b[1;32m    664\u001b[0m             \u001b[0;32mif\u001b[0m \u001b[0mgetattr\u001b[0m\u001b[0;34m(\u001b[0m\u001b[0mmodule\u001b[0m\u001b[0;34m,\u001b[0m \u001b[0;34m'__file__'\u001b[0m\u001b[0;34m,\u001b[0m \u001b[0;32mNone\u001b[0m\u001b[0;34m)\u001b[0m\u001b[0;34m:\u001b[0m\u001b[0;34m\u001b[0m\u001b[0;34m\u001b[0m\u001b[0m\n\u001b[1;32m    665\u001b[0m                 \u001b[0;32mreturn\u001b[0m \u001b[0mmodule\u001b[0m\u001b[0;34m.\u001b[0m\u001b[0m__file__\u001b[0m\u001b[0;34m\u001b[0m\u001b[0;34m\u001b[0m\u001b[0m\n\u001b[0;32m--> 666\u001b[0;31m         \u001b[0;32mraise\u001b[0m \u001b[0mTypeError\u001b[0m\u001b[0;34m(\u001b[0m\u001b[0;34m'{!r} is a built-in class'\u001b[0m\u001b[0;34m.\u001b[0m\u001b[0mformat\u001b[0m\u001b[0;34m(\u001b[0m\u001b[0mobject\u001b[0m\u001b[0;34m)\u001b[0m\u001b[0;34m)\u001b[0m\u001b[0;34m\u001b[0m\u001b[0;34m\u001b[0m\u001b[0m\n\u001b[0m\u001b[1;32m    667\u001b[0m     \u001b[0;32mif\u001b[0m \u001b[0mismethod\u001b[0m\u001b[0;34m(\u001b[0m\u001b[0mobject\u001b[0m\u001b[0;34m)\u001b[0m\u001b[0;34m:\u001b[0m\u001b[0;34m\u001b[0m\u001b[0;34m\u001b[0m\u001b[0m\n\u001b[1;32m    668\u001b[0m         \u001b[0mobject\u001b[0m \u001b[0;34m=\u001b[0m \u001b[0mobject\u001b[0m\u001b[0;34m.\u001b[0m\u001b[0m__func__\u001b[0m\u001b[0;34m\u001b[0m\u001b[0;34m\u001b[0m\u001b[0m\n",
      "\u001b[0;31mTypeError\u001b[0m: <class '__main__.SpacyVader'> is a built-in class"
     ]
    }
   ],
   "source": [
    "from spacy.tokens import Doc, Span, Token\n",
    "from spacy.language import Language\n",
    "\n",
    "from nltk.sentiment.vader import SentimentIntensityAnalyzer\n",
    "\n",
    "@Language.factory(\"spacyVader\")\n",
    "class SpacyVader(object):\n",
    "    \"\"\"A spacy pipline for NLTK Vader Sentiment Analysis\"\"\"\n",
    "    \n",
    "    def __init__(self, nlp, name):\n",
    "        extensions = [\"polarity\"]\n",
    "        getters = [self.get_polarity]\n",
    "        for ext, get in zip(extensions, getters):\n",
    "            if not Doc.has_extension(ext):\n",
    "                Doc.set_extension(ext, default=None)\n",
    "            if not Span.has_extension(ext):\n",
    "                Span.set_extension(ext, getter=get)\n",
    "            if not Token.has_extension(ext):\n",
    "                Token.set_extension(ext, getter=get)\n",
    "    \n",
    "    def __call__(self, doc):\n",
    "        # Doc-level sentiment\n",
    "        sentiment = self.get_sentiment(doc)\n",
    "        doc._.set(\"polarity\", sentiment['compound'])\n",
    "\n",
    "        return doc\n",
    "\n",
    "    def get_sentiment(self, doc):\n",
    "        analyzer = SentimentIntensityAnalyzer()\n",
    "        sentiment = analyzer.polarity_scores(doc.text)\n",
    "        return sentiment\n",
    "    \n",
    "    def get_polarity(self, doc):\n",
    "        return self.get_sentiment(doc).polarity"
   ]
  }
 ],
 "metadata": {
  "kernelspec": {
   "display_name": "Python 3 (ipykernel)",
   "language": "python",
   "name": "python3"
  },
  "language_info": {
   "codemirror_mode": {
    "name": "ipython",
    "version": 3
   },
   "file_extension": ".py",
   "mimetype": "text/x-python",
   "name": "python",
   "nbconvert_exporter": "python",
   "pygments_lexer": "ipython3",
   "version": "3.9.5"
  }
 },
 "nbformat": 4,
 "nbformat_minor": 5
}
