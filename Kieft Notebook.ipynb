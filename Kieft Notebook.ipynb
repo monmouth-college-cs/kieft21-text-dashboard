{
 "cells": [
  {
   "cell_type": "markdown",
   "id": "2491b78f",
   "metadata": {},
   "source": [
    "# Kieft Jupyter Notebook:\n",
    "\n",
    "# About: \n",
    "We created this notebook to prototype and document our research over the Fall 2021 Semester at Monmouth College.\n",
    "We are currently working to implement Spacy pipelines and custom pipes within this pipeline to improve our web-based text analysis, and this notebook will document that process. The Spacy pipelines will completely replace the analysis process within the dashboard/code. This allows the user to create more customization, with little change to the code base. Also, we will begin to allow Spacy's advanced searching features. Students working on this dashboard are currently: Cal Bigham, Class of 2023 and Shay Hafner, Class of 2023."
   ]
  },
  {
   "cell_type": "code",
   "execution_count": null,
   "id": "992000a9",
   "metadata": {},
   "outputs": [],
   "source": []
  }
 ],
 "metadata": {
  "kernelspec": {
   "display_name": "Python 3 (ipykernel)",
   "language": "python",
   "name": "python3"
  },
  "language_info": {
   "codemirror_mode": {
    "name": "ipython",
    "version": 3
   },
   "file_extension": ".py",
   "mimetype": "text/x-python",
   "name": "python",
   "nbconvert_exporter": "python",
   "pygments_lexer": "ipython3",
   "version": "3.9.5"
  }
 },
 "nbformat": 4,
 "nbformat_minor": 5
}
