{
 "cells": [
  {
   "cell_type": "markdown",
   "id": "6c2416d6",
   "metadata": {},
   "source": [
    "# Kieft Jupyter Notebook:"
   ]
  },
  {
   "cell_type": "markdown",
   "id": "f9896a29",
   "metadata": {},
   "source": [
    "# About: \n",
    "We created this notebook to prototype and document our research over the Fall 2021 Semester at Monmouth College.\n",
    "We are currently working to implement Spacy pipelines and custom pipes within this pipeline to improve our web-based text analysis, and this notebook will document that process. The Spacy pipelines will completely replace the analysis process within the dashboard/code. This allows the user to create more customization, with little change to the code base. Also, we will begin to allow Spacy's advanced searching features. Students working on this dashboard are currently: Cal Bigham, Class of 2023 and Shay Hafner, Class of 2023."
   ]
  },
  {
   "cell_type": "markdown",
   "id": "459e1f0c",
   "metadata": {},
   "source": [
    "# Adding/Deleting Pipes from the Pipeline\n",
    "Before we get into the details of each pipe or node of the Spacy pipeline that we create, lets consider the spacy methods for adding and deleting pipes from a pipeline. Spacy has a few of these functions to allow this functionality:\n",
    "\n",
    "remove_pipe: Allows the developer to remove an entire pipe from the pipeline (the pipe will not be loaded)\n",
    "disable_pipe: Allows the developer to disable a pipe from the pipeline (the pipe will be loaded, but not run)\n",
    "add_pipe: Can add a pipe to the pipeline, on top of the defaults.\n",
    "It must be mentioned that using before, after, first, and last keywords, you can customize the pipeline with ease.\n",
    "\n",
    "For our purposes, we will allow the user to define what they want removed from the pipeline. If the user does not want to get polarity, we would activate the below code block:\n"
   ]
  },
  {
   "cell_type": "code",
   "execution_count": null,
   "id": "29ad61b9",
   "metadata": {},
   "outputs": [],
   "source": [
    "user_remove_options = \"polarity\"\n",
    "nlp.disable_pipe(user_remove_options)"
   ]
  },
  {
   "cell_type": "markdown",
   "id": "87caee7b",
   "metadata": {},
   "source": [
    "This code takes a string or list of strings from a form on the dashboard. Then, we could use that string to remove those pipes from the default pipeline. Notice that we are only using disable here, as it is all we need in every scenerio. Adding a pipe and completely removing it would get messy (due to the importance of order), so we will only use disable."
   ]
  },
  {
   "cell_type": "markdown",
   "id": "a69e7d24",
   "metadata": {},
   "source": [
    "# The Dependency Parser\n",
    "The dependency parser is going to replace our sentinizer completely. This new parser uses a trained model that is loaded with the Spacy Pipeline to determine sentence boundaries and the sentences in the document. This is accessable in doc.sents, an iterable of all the sentences in the document.\n",
    "\n",
    "We can use the dependency parser in this way then:"
   ]
  },
  {
   "cell_type": "code",
   "execution_count": 10,
   "id": "c11090dd",
   "metadata": {},
   "outputs": [
    {
     "name": "stdout",
     "output_type": "stream",
     "text": [
      "Defaulting to user installation because normal site-packages is not writeable\n",
      "Requirement already satisfied: pip in /home/acm/.local/lib/python3.9/site-packages (21.3.1)\n",
      "Requirement already satisfied: setuptools in /home/acm/.local/lib/python3.9/site-packages (58.5.3)\n",
      "Requirement already satisfied: wheel in /home/acm/.local/lib/python3.9/site-packages (0.37.0)\n",
      "Defaulting to user installation because normal site-packages is not writeable\n",
      "Requirement already satisfied: spacy in /home/acm/.local/lib/python3.9/site-packages (3.2.0)\n",
      "Requirement already satisfied: wasabi<1.1.0,>=0.8.1 in /home/acm/.local/lib/python3.9/site-packages (from spacy) (0.8.2)\n",
      "Requirement already satisfied: tqdm<5.0.0,>=4.38.0 in /home/acm/.local/lib/python3.9/site-packages (from spacy) (4.62.3)\n",
      "Requirement already satisfied: jinja2 in /home/acm/.local/lib/python3.9/site-packages (from spacy) (3.0.1)\n",
      "Requirement already satisfied: requests<3.0.0,>=2.13.0 in /usr/lib/python3/dist-packages (from spacy) (2.25.1)\n",
      "Requirement already satisfied: thinc<8.1.0,>=8.0.12 in /home/acm/.local/lib/python3.9/site-packages (from spacy) (8.0.12)\n",
      "Requirement already satisfied: catalogue<2.1.0,>=2.0.6 in /home/acm/.local/lib/python3.9/site-packages (from spacy) (2.0.6)\n",
      "Requirement already satisfied: blis<0.8.0,>=0.4.0 in /home/acm/.local/lib/python3.9/site-packages (from spacy) (0.7.5)\n",
      "Requirement already satisfied: langcodes<4.0.0,>=3.2.0 in /home/acm/.local/lib/python3.9/site-packages (from spacy) (3.3.0)\n",
      "Requirement already satisfied: typer<0.5.0,>=0.3.0 in /home/acm/.local/lib/python3.9/site-packages (from spacy) (0.4.0)\n",
      "Requirement already satisfied: spacy-loggers<2.0.0,>=1.0.0 in /home/acm/.local/lib/python3.9/site-packages (from spacy) (1.0.1)\n",
      "Requirement already satisfied: cymem<2.1.0,>=2.0.2 in /home/acm/.local/lib/python3.9/site-packages (from spacy) (2.0.6)\n",
      "Requirement already satisfied: preshed<3.1.0,>=3.0.2 in /home/acm/.local/lib/python3.9/site-packages (from spacy) (3.0.6)\n",
      "Requirement already satisfied: packaging>=20.0 in /home/acm/.local/lib/python3.9/site-packages (from spacy) (21.0)\n",
      "Requirement already satisfied: setuptools in /home/acm/.local/lib/python3.9/site-packages (from spacy) (58.5.3)\n",
      "Requirement already satisfied: pathy>=0.3.5 in /home/acm/.local/lib/python3.9/site-packages (from spacy) (0.6.1)\n",
      "Requirement already satisfied: pydantic!=1.8,!=1.8.1,<1.9.0,>=1.7.4 in /home/acm/.local/lib/python3.9/site-packages (from spacy) (1.8.2)\n",
      "Requirement already satisfied: numpy>=1.15.0 in /home/acm/.local/lib/python3.9/site-packages (from spacy) (1.21.3)\n",
      "Requirement already satisfied: srsly<3.0.0,>=2.4.1 in /home/acm/.local/lib/python3.9/site-packages (from spacy) (2.4.2)\n",
      "Requirement already satisfied: murmurhash<1.1.0,>=0.28.0 in /home/acm/.local/lib/python3.9/site-packages (from spacy) (1.0.6)\n",
      "Requirement already satisfied: spacy-legacy<3.1.0,>=3.0.8 in /home/acm/.local/lib/python3.9/site-packages (from spacy) (3.0.8)\n",
      "Requirement already satisfied: pyparsing>=2.0.2 in /usr/lib/python3/dist-packages (from packaging>=20.0->spacy) (2.4.7)\n",
      "Requirement already satisfied: smart-open<6.0.0,>=5.0.0 in /home/acm/.local/lib/python3.9/site-packages (from pathy>=0.3.5->spacy) (5.2.1)\n",
      "Requirement already satisfied: typing-extensions>=3.7.4.3 in /usr/lib/python3/dist-packages (from pydantic!=1.8,!=1.8.1,<1.9.0,>=1.7.4->spacy) (3.7.4.3)\n",
      "Requirement already satisfied: click<9.0.0,>=7.1.1 in /home/acm/.local/lib/python3.9/site-packages (from typer<0.5.0,>=0.3.0->spacy) (8.0.3)\n",
      "Requirement already satisfied: MarkupSafe>=2.0 in /home/acm/.local/lib/python3.9/site-packages (from jinja2->spacy) (2.0.1)\n",
      "Traceback (most recent call last):\n",
      "  File \"/usr/lib/python3/dist-packages/requests/models.py\", line 382, in prepare_url\n",
      "    scheme, auth, host, port, path, query, fragment = parse_url(url)\n",
      "  File \"/usr/lib/python3/dist-packages/urllib3/util/url.py\", line 392, in parse_url\n",
      "    return six.raise_from(LocationParseError(source_url), None)\n",
      "  File \"<string>\", line 3, in raise_from\n",
      "urllib3.exceptions.LocationParseError: Failed to parse: https://raw.githubusercontent.com/explosion/spacy-models/master/compatibility.json\n",
      "\n",
      "During handling of the above exception, another exception occurred:\n",
      "\n",
      "Traceback (most recent call last):\n",
      "  File \"/usr/lib/python3.9/runpy.py\", line 197, in _run_module_as_main\n",
      "    return _run_code(code, main_globals, None,\n",
      "  File \"/usr/lib/python3.9/runpy.py\", line 87, in _run_code\n",
      "    exec(code, run_globals)\n",
      "  File \"/home/acm/.local/lib/python3.9/site-packages/spacy/__main__.py\", line 4, in <module>\n",
      "    setup_cli()\n",
      "  File \"/home/acm/.local/lib/python3.9/site-packages/spacy/cli/_util.py\", line 71, in setup_cli\n",
      "    command(prog_name=COMMAND)\n",
      "  File \"/home/acm/.local/lib/python3.9/site-packages/click/core.py\", line 1128, in __call__\n",
      "    return self.main(*args, **kwargs)\n",
      "  File \"/home/acm/.local/lib/python3.9/site-packages/click/core.py\", line 1053, in main\n",
      "    rv = self.invoke(ctx)\n",
      "  File \"/home/acm/.local/lib/python3.9/site-packages/click/core.py\", line 1659, in invoke\n",
      "    return _process_result(sub_ctx.command.invoke(sub_ctx))\n",
      "  File \"/home/acm/.local/lib/python3.9/site-packages/click/core.py\", line 1395, in invoke\n",
      "    return ctx.invoke(self.callback, **ctx.params)\n",
      "  File \"/home/acm/.local/lib/python3.9/site-packages/click/core.py\", line 754, in invoke\n",
      "    return __callback(*args, **kwargs)\n",
      "  File \"/home/acm/.local/lib/python3.9/site-packages/typer/main.py\", line 500, in wrapper\n",
      "    return callback(**use_params)  # type: ignore\n",
      "  File \"/home/acm/.local/lib/python3.9/site-packages/spacy/cli/download.py\", line 35, in download_cli\n",
      "    download(model, direct, sdist, *ctx.args)\n",
      "  File \"/home/acm/.local/lib/python3.9/site-packages/spacy/cli/download.py\", line 67, in download\n",
      "    compatibility = get_compatibility()\n",
      "  File \"/home/acm/.local/lib/python3.9/site-packages/spacy/cli/download.py\", line 78, in get_compatibility\n",
      "    r = requests.get(about.__compatibility__)\n",
      "  File \"/usr/lib/python3/dist-packages/requests/api.py\", line 76, in get\n",
      "    return request('get', url, params=params, **kwargs)\n",
      "  File \"/usr/lib/python3/dist-packages/requests/api.py\", line 61, in request\n",
      "    return session.request(method=method, url=url, **kwargs)\n",
      "  File \"/usr/lib/python3/dist-packages/requests/sessions.py\", line 528, in request\n",
      "    prep = self.prepare_request(req)\n",
      "  File \"/usr/lib/python3/dist-packages/requests/sessions.py\", line 456, in prepare_request\n",
      "    p.prepare(\n",
      "  File \"/usr/lib/python3/dist-packages/requests/models.py\", line 316, in prepare\n",
      "    self.prepare_url(url, params)\n",
      "  File \"/usr/lib/python3/dist-packages/requests/models.py\", line 384, in prepare_url\n",
      "    raise InvalidURL(*e.args)\n",
      "requests.exceptions.InvalidURL: Failed to parse: https://raw.githubusercontent.com/explosion/spacy-models/master/compatibility.json\n"
     ]
    },
    {
     "ename": "OSError",
     "evalue": "[E050] Can't find model 'en_core_web_trf'. It doesn't seem to be a Python package or a valid path to a data directory.",
     "output_type": "error",
     "traceback": [
      "\u001b[0;31m---------------------------------------------------------------------------\u001b[0m",
      "\u001b[0;31mOSError\u001b[0m                                   Traceback (most recent call last)",
      "\u001b[0;32m/tmp/ipykernel_362238/2907886434.py\u001b[0m in \u001b[0;36m<module>\u001b[0;34m\u001b[0m\n\u001b[1;32m      6\u001b[0m \u001b[0;32mimport\u001b[0m \u001b[0mspacy\u001b[0m\u001b[0;34m\u001b[0m\u001b[0;34m\u001b[0m\u001b[0m\n\u001b[1;32m      7\u001b[0m \u001b[0;34m\u001b[0m\u001b[0m\n\u001b[0;32m----> 8\u001b[0;31m \u001b[0mnlp\u001b[0m \u001b[0;34m=\u001b[0m \u001b[0mspacy\u001b[0m\u001b[0;34m.\u001b[0m\u001b[0mload\u001b[0m\u001b[0;34m(\u001b[0m\u001b[0;34m\"en_core_web_trf\"\u001b[0m\u001b[0;34m)\u001b[0m\u001b[0;34m\u001b[0m\u001b[0;34m\u001b[0m\u001b[0m\n\u001b[0m\u001b[1;32m      9\u001b[0m \u001b[0mdoc\u001b[0m \u001b[0;34m=\u001b[0m \u001b[0mnlp\u001b[0m\u001b[0;34m(\u001b[0m\u001b[0;34m\"The quick brown fox jumps over the lazy dog. Cal and Shay work in the networking lab. Monmouth College has a nice campus.\"\u001b[0m\u001b[0;34m)\u001b[0m\u001b[0;34m\u001b[0m\u001b[0;34m\u001b[0m\u001b[0m\n\u001b[1;32m     10\u001b[0m \u001b[0;34m\u001b[0m\u001b[0m\n",
      "\u001b[0;32m~/.local/lib/python3.9/site-packages/spacy/__init__.py\u001b[0m in \u001b[0;36mload\u001b[0;34m(name, vocab, disable, exclude, config)\u001b[0m\n\u001b[1;32m     49\u001b[0m     \u001b[0mRETURNS\u001b[0m \u001b[0;34m(\u001b[0m\u001b[0mLanguage\u001b[0m\u001b[0;34m)\u001b[0m\u001b[0;34m:\u001b[0m \u001b[0mThe\u001b[0m \u001b[0mloaded\u001b[0m \u001b[0mnlp\u001b[0m \u001b[0mobject\u001b[0m\u001b[0;34m.\u001b[0m\u001b[0;34m\u001b[0m\u001b[0;34m\u001b[0m\u001b[0m\n\u001b[1;32m     50\u001b[0m     \"\"\"\n\u001b[0;32m---> 51\u001b[0;31m     return util.load_model(\n\u001b[0m\u001b[1;32m     52\u001b[0m         \u001b[0mname\u001b[0m\u001b[0;34m,\u001b[0m \u001b[0mvocab\u001b[0m\u001b[0;34m=\u001b[0m\u001b[0mvocab\u001b[0m\u001b[0;34m,\u001b[0m \u001b[0mdisable\u001b[0m\u001b[0;34m=\u001b[0m\u001b[0mdisable\u001b[0m\u001b[0;34m,\u001b[0m \u001b[0mexclude\u001b[0m\u001b[0;34m=\u001b[0m\u001b[0mexclude\u001b[0m\u001b[0;34m,\u001b[0m \u001b[0mconfig\u001b[0m\u001b[0;34m=\u001b[0m\u001b[0mconfig\u001b[0m\u001b[0;34m\u001b[0m\u001b[0;34m\u001b[0m\u001b[0m\n\u001b[1;32m     53\u001b[0m     )\n",
      "\u001b[0;32m~/.local/lib/python3.9/site-packages/spacy/util.py\u001b[0m in \u001b[0;36mload_model\u001b[0;34m(name, vocab, disable, exclude, config)\u001b[0m\n\u001b[1;32m    354\u001b[0m     \"\"\"\n\u001b[1;32m    355\u001b[0m     \u001b[0mregistry\u001b[0m\u001b[0;34m.\u001b[0m\u001b[0mlanguages\u001b[0m\u001b[0;34m.\u001b[0m\u001b[0mregister\u001b[0m\u001b[0;34m(\u001b[0m\u001b[0mname\u001b[0m\u001b[0;34m,\u001b[0m \u001b[0mfunc\u001b[0m\u001b[0;34m=\u001b[0m\u001b[0mcls\u001b[0m\u001b[0;34m)\u001b[0m\u001b[0;34m\u001b[0m\u001b[0;34m\u001b[0m\u001b[0m\n\u001b[0;32m--> 356\u001b[0;31m \u001b[0;34m\u001b[0m\u001b[0m\n\u001b[0m\u001b[1;32m    357\u001b[0m \u001b[0;34m\u001b[0m\u001b[0m\n\u001b[1;32m    358\u001b[0m \u001b[0;32mdef\u001b[0m \u001b[0mensure_path\u001b[0m\u001b[0;34m(\u001b[0m\u001b[0mpath\u001b[0m\u001b[0;34m:\u001b[0m \u001b[0mAny\u001b[0m\u001b[0;34m)\u001b[0m \u001b[0;34m->\u001b[0m \u001b[0mAny\u001b[0m\u001b[0;34m:\u001b[0m\u001b[0;34m\u001b[0m\u001b[0;34m\u001b[0m\u001b[0m\n",
      "\u001b[0;31mOSError\u001b[0m: [E050] Can't find model 'en_core_web_trf'. It doesn't seem to be a Python package or a valid path to a data directory."
     ]
    }
   ],
   "source": [
    "import sys\n",
    "!pip install -U pip setuptools wheel\n",
    "!pip install -U spacy\n",
    "!python -m spacy download en_core_web_trf\n",
    "\n",
    "import spacy\n",
    "\n",
    "nlp = spacy.load(\"en_core_web_trf\")\n",
    "doc = nlp(\"The quick brown fox jumps over the lazy dog. Cal and Shay work in the networking lab. Monmouth College has a nice campus.\")\n",
    "\n",
    "for sent in doc.sents:\n",
    "    yield sent"
   ]
  },
  {
   "cell_type": "markdown",
   "id": "adaad35c",
   "metadata": {},
   "source": [
    "# The Phrase Match (for filter and analysis terms)\n",
    "We are able to search for phases as we did in the original deployment of this web app. However, we can use spacy's phrase matcher. Below is a code example for this:"
   ]
  },
  {
   "cell_type": "code",
   "execution_count": null,
   "id": "9ae9cbf5",
   "metadata": {},
   "outputs": [],
   "source": [
    "from spacy.matcher import PhraseMatcher\n",
    "phrase_matcher = PhraseMatcher(nlp.vocab)\n",
    "phrases = ['quick dog', 'cleared']\n",
    "patterns = [nlp(text) for text in phrases]\n",
    "phrase_matcher.add('AI', None, *patterns)\n",
    "doc = nlp(text)\n",
    "\n",
    "for sent in doc.sents:\n",
    "    for match_id, start, end in phrase_matcher(nlp(sent.text)):\n",
    "        if nlp.vocab.strings[match_id] in [\"AI\"]:\n",
    "            print(sent.text)"
   ]
  },
  {
   "cell_type": "markdown",
   "id": "1efc0600",
   "metadata": {},
   "source": [
    "This code example uses the phrase matcher to search for the phrases in the document. Then, it prints the sentence if it has the matching phrase. The beauty of this is that we do not need to use regexes to search for multi word pharses anymore. We can take whatever the user inputs into the filter/analysis term fields and pass that to the phrase matcher as a list of phrases. To chunk, which we will explore next, we just need to choose 2 sentences before and 2 after this match"
   ]
  },
  {
   "cell_type": "markdown",
   "id": "d2a87692",
   "metadata": {},
   "source": [
    "# The Chunking Behavior using Spacy\n"
   ]
  },
  {
   "cell_type": "markdown",
   "id": "e76441a6",
   "metadata": {},
   "source": [
    "# Adding NLTK Vader Functionality to Spacy\n",
    "In order to allow for maximum user customizability, as well as the best experience (in our eyes), we wanted to create a custom spacy \"pipe\" that gave NLTK Vader Functionality. This allows the user to get polarity of the text.\n",
    "\n",
    "You will see a @Language.factory decoration tag above our code. This tells spacy the name of the custom pipe (eg. spacyVader). This allow for the typical spacy functionality of remove_pipe and add_pipe. This limits the amount of code required to add and remove processes from the default pipeline."
   ]
  },
  {
   "cell_type": "code",
   "execution_count": 8,
   "id": "992000a9",
   "metadata": {},
   "outputs": [
    {
     "ename": "TypeError",
     "evalue": "<class '__main__.SpacyVader'> is a built-in class",
     "output_type": "error",
     "traceback": [
      "\u001b[0;31m---------------------------------------------------------------------------\u001b[0m",
      "\u001b[0;31mTypeError\u001b[0m                                 Traceback (most recent call last)",
      "\u001b[0;32m/tmp/ipykernel_6269/650628231.py\u001b[0m in \u001b[0;36m<module>\u001b[0;34m\u001b[0m\n\u001b[1;32m      5\u001b[0m \u001b[0;34m\u001b[0m\u001b[0m\n\u001b[1;32m      6\u001b[0m \u001b[0;34m@\u001b[0m\u001b[0mLanguage\u001b[0m\u001b[0;34m.\u001b[0m\u001b[0mfactory\u001b[0m\u001b[0;34m(\u001b[0m\u001b[0;34m\"spacyVader\"\u001b[0m\u001b[0;34m)\u001b[0m\u001b[0;34m\u001b[0m\u001b[0;34m\u001b[0m\u001b[0m\n\u001b[0;32m----> 7\u001b[0;31m \u001b[0;32mclass\u001b[0m \u001b[0mSpacyVader\u001b[0m\u001b[0;34m(\u001b[0m\u001b[0mobject\u001b[0m\u001b[0;34m)\u001b[0m\u001b[0;34m:\u001b[0m\u001b[0;34m\u001b[0m\u001b[0;34m\u001b[0m\u001b[0m\n\u001b[0m\u001b[1;32m      8\u001b[0m     \u001b[0;34m\"\"\"A spacy pipline for NLTK Vader Sentiment Analysis\"\"\"\u001b[0m\u001b[0;34m\u001b[0m\u001b[0;34m\u001b[0m\u001b[0m\n\u001b[1;32m      9\u001b[0m \u001b[0;34m\u001b[0m\u001b[0m\n",
      "\u001b[0;32m~/.local/lib/python3.9/site-packages/spacy/language.py\u001b[0m in \u001b[0;36madd_factory\u001b[0;34m(factory_func)\u001b[0m\n\u001b[1;32m    476\u001b[0m                 \u001b[0;31m# if module is reloaded.\u001b[0m\u001b[0;34m\u001b[0m\u001b[0;34m\u001b[0m\u001b[0;34m\u001b[0m\u001b[0m\n\u001b[1;32m    477\u001b[0m                 \u001b[0mexisting_func\u001b[0m \u001b[0;34m=\u001b[0m \u001b[0mregistry\u001b[0m\u001b[0;34m.\u001b[0m\u001b[0mfactories\u001b[0m\u001b[0;34m.\u001b[0m\u001b[0mget\u001b[0m\u001b[0;34m(\u001b[0m\u001b[0minternal_name\u001b[0m\u001b[0;34m)\u001b[0m\u001b[0;34m\u001b[0m\u001b[0;34m\u001b[0m\u001b[0m\n\u001b[0;32m--> 478\u001b[0;31m                 \u001b[0;32mif\u001b[0m \u001b[0;32mnot\u001b[0m \u001b[0mutil\u001b[0m\u001b[0;34m.\u001b[0m\u001b[0mis_same_func\u001b[0m\u001b[0;34m(\u001b[0m\u001b[0mfactory_func\u001b[0m\u001b[0;34m,\u001b[0m \u001b[0mexisting_func\u001b[0m\u001b[0;34m)\u001b[0m\u001b[0;34m:\u001b[0m\u001b[0;34m\u001b[0m\u001b[0;34m\u001b[0m\u001b[0m\n\u001b[0m\u001b[1;32m    479\u001b[0m                     err = Errors.E004.format(\n\u001b[1;32m    480\u001b[0m                         \u001b[0mname\u001b[0m\u001b[0;34m=\u001b[0m\u001b[0mname\u001b[0m\u001b[0;34m,\u001b[0m \u001b[0mfunc\u001b[0m\u001b[0;34m=\u001b[0m\u001b[0mexisting_func\u001b[0m\u001b[0;34m,\u001b[0m \u001b[0mnew_func\u001b[0m\u001b[0;34m=\u001b[0m\u001b[0mfactory_func\u001b[0m\u001b[0;34m\u001b[0m\u001b[0;34m\u001b[0m\u001b[0m\n",
      "\u001b[0;32m~/.local/lib/python3.9/site-packages/spacy/util.py\u001b[0m in \u001b[0;36mis_same_func\u001b[0;34m(func1, func2)\u001b[0m\n\u001b[1;32m    989\u001b[0m         \u001b[0;32mreturn\u001b[0m \u001b[0;32mFalse\u001b[0m\u001b[0;34m\u001b[0m\u001b[0;34m\u001b[0m\u001b[0m\n\u001b[1;32m    990\u001b[0m     \u001b[0msame_name\u001b[0m \u001b[0;34m=\u001b[0m \u001b[0mfunc1\u001b[0m\u001b[0;34m.\u001b[0m\u001b[0m__qualname__\u001b[0m \u001b[0;34m==\u001b[0m \u001b[0mfunc2\u001b[0m\u001b[0;34m.\u001b[0m\u001b[0m__qualname__\u001b[0m\u001b[0;34m\u001b[0m\u001b[0;34m\u001b[0m\u001b[0m\n\u001b[0;32m--> 991\u001b[0;31m     \u001b[0msame_file\u001b[0m \u001b[0;34m=\u001b[0m \u001b[0minspect\u001b[0m\u001b[0;34m.\u001b[0m\u001b[0mgetfile\u001b[0m\u001b[0;34m(\u001b[0m\u001b[0mfunc1\u001b[0m\u001b[0;34m)\u001b[0m \u001b[0;34m==\u001b[0m \u001b[0minspect\u001b[0m\u001b[0;34m.\u001b[0m\u001b[0mgetfile\u001b[0m\u001b[0;34m(\u001b[0m\u001b[0mfunc2\u001b[0m\u001b[0;34m)\u001b[0m\u001b[0;34m\u001b[0m\u001b[0;34m\u001b[0m\u001b[0m\n\u001b[0m\u001b[1;32m    992\u001b[0m     \u001b[0msame_code\u001b[0m \u001b[0;34m=\u001b[0m \u001b[0minspect\u001b[0m\u001b[0;34m.\u001b[0m\u001b[0mgetsourcelines\u001b[0m\u001b[0;34m(\u001b[0m\u001b[0mfunc1\u001b[0m\u001b[0;34m)\u001b[0m \u001b[0;34m==\u001b[0m \u001b[0minspect\u001b[0m\u001b[0;34m.\u001b[0m\u001b[0mgetsourcelines\u001b[0m\u001b[0;34m(\u001b[0m\u001b[0mfunc2\u001b[0m\u001b[0;34m)\u001b[0m\u001b[0;34m\u001b[0m\u001b[0;34m\u001b[0m\u001b[0m\n\u001b[1;32m    993\u001b[0m     \u001b[0;32mreturn\u001b[0m \u001b[0msame_name\u001b[0m \u001b[0;32mand\u001b[0m \u001b[0msame_file\u001b[0m \u001b[0;32mand\u001b[0m \u001b[0msame_code\u001b[0m\u001b[0;34m\u001b[0m\u001b[0;34m\u001b[0m\u001b[0m\n",
      "\u001b[0;32m/usr/lib/python3.9/inspect.py\u001b[0m in \u001b[0;36mgetfile\u001b[0;34m(object)\u001b[0m\n\u001b[1;32m    664\u001b[0m             \u001b[0;32mif\u001b[0m \u001b[0mgetattr\u001b[0m\u001b[0;34m(\u001b[0m\u001b[0mmodule\u001b[0m\u001b[0;34m,\u001b[0m \u001b[0;34m'__file__'\u001b[0m\u001b[0;34m,\u001b[0m \u001b[0;32mNone\u001b[0m\u001b[0;34m)\u001b[0m\u001b[0;34m:\u001b[0m\u001b[0;34m\u001b[0m\u001b[0;34m\u001b[0m\u001b[0m\n\u001b[1;32m    665\u001b[0m                 \u001b[0;32mreturn\u001b[0m \u001b[0mmodule\u001b[0m\u001b[0;34m.\u001b[0m\u001b[0m__file__\u001b[0m\u001b[0;34m\u001b[0m\u001b[0;34m\u001b[0m\u001b[0m\n\u001b[0;32m--> 666\u001b[0;31m         \u001b[0;32mraise\u001b[0m \u001b[0mTypeError\u001b[0m\u001b[0;34m(\u001b[0m\u001b[0;34m'{!r} is a built-in class'\u001b[0m\u001b[0;34m.\u001b[0m\u001b[0mformat\u001b[0m\u001b[0;34m(\u001b[0m\u001b[0mobject\u001b[0m\u001b[0;34m)\u001b[0m\u001b[0;34m)\u001b[0m\u001b[0;34m\u001b[0m\u001b[0;34m\u001b[0m\u001b[0m\n\u001b[0m\u001b[1;32m    667\u001b[0m     \u001b[0;32mif\u001b[0m \u001b[0mismethod\u001b[0m\u001b[0;34m(\u001b[0m\u001b[0mobject\u001b[0m\u001b[0;34m)\u001b[0m\u001b[0;34m:\u001b[0m\u001b[0;34m\u001b[0m\u001b[0;34m\u001b[0m\u001b[0m\n\u001b[1;32m    668\u001b[0m         \u001b[0mobject\u001b[0m \u001b[0;34m=\u001b[0m \u001b[0mobject\u001b[0m\u001b[0;34m.\u001b[0m\u001b[0m__func__\u001b[0m\u001b[0;34m\u001b[0m\u001b[0;34m\u001b[0m\u001b[0m\n",
      "\u001b[0;31mTypeError\u001b[0m: <class '__main__.SpacyVader'> is a built-in class"
     ]
    }
   ],
   "source": [
    "from spacy.tokens import Doc, Span, Token\n",
    "from spacy.language import Language\n",
    "\n",
    "from nltk.sentiment.vader import SentimentIntensityAnalyzer\n",
    "\n",
    "@Language.factory(\"spacyVader\")\n",
    "class SpacyVader(object):\n",
    "    \"\"\"A spacy pipline for NLTK Vader Sentiment Analysis\"\"\"\n",
    "    \n",
    "    def __init__(self, nlp, name):\n",
    "        extensions = [\"polarity\"]\n",
    "        getters = [self.get_polarity]\n",
    "        for ext, get in zip(extensions, getters):\n",
    "            if not Doc.has_extension(ext):\n",
    "                Doc.set_extension(ext, default=None)\n",
    "            if not Span.has_extension(ext):\n",
    "                Span.set_extension(ext, getter=get)\n",
    "            if not Token.has_extension(ext):\n",
    "                Token.set_extension(ext, getter=get)\n",
    "    \n",
    "    def __call__(self, doc):\n",
    "        # Doc-level sentiment\n",
    "        sentiment = self.get_sentiment(doc)\n",
    "        doc._.set(\"polarity\", sentiment['compound'])\n",
    "\n",
    "        return doc\n",
    "\n",
    "    def get_sentiment(self, doc):\n",
    "        analyzer = SentimentIntensityAnalyzer()\n",
    "        sentiment = analyzer.polarity_scores(doc.text)\n",
    "        return sentiment\n",
    "    \n",
    "    def get_polarity(self, doc):\n",
    "        return self.get_sentiment(doc).polarity"
   ]
  }
 ],
 "metadata": {
  "kernelspec": {
   "display_name": "Python 3 (ipykernel)",
   "language": "python",
   "name": "python3"
  },
  "language_info": {
   "codemirror_mode": {
    "name": "ipython",
    "version": 3
   },
   "file_extension": ".py",
   "mimetype": "text/x-python",
   "name": "python",
   "nbconvert_exporter": "python",
   "pygments_lexer": "ipython3",
   "version": "3.9.5"
  }
 },
 "nbformat": 4,
 "nbformat_minor": 5
}
